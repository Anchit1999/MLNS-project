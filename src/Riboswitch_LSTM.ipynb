{
 "cells": [
  {
   "cell_type": "code",
   "execution_count": 2,
   "metadata": {},
   "outputs": [],
   "source": [
    "import numpy as np\n",
    "import pandas as pd\n",
    "import sklearn\n",
    "import torch\n",
    "import torch.nn as nn\n",
    "import matplotlib.pyplot as plt\n",
    "from torch.autograd import Variable\n",
    "from tqdm import tqdm\n",
    "from torch.utils.data import Dataset, DataLoader"
   ]
  },
  {
   "cell_type": "code",
   "execution_count": 41,
   "metadata": {},
   "outputs": [],
   "source": [
    "infile = '../datasets/riboswitch/dataset3.txt'\n",
    "ext=np.loadtxt(infile, skiprows=1)"
   ]
  },
  {
   "cell_type": "markdown",
   "metadata": {},
   "source": [
    "There are 100,000 rows that are present in the file. We will be using the first 2000 for training and 500 for validation. Then we give the first 2500 for test an generate the next 1000 to see the accuracy."
   ]
  },
  {
   "cell_type": "code",
   "execution_count": 42,
   "metadata": {},
   "outputs": [],
   "source": [
    "device = torch.device(\"cuda\")\n",
    "\n",
    "\n",
    "def running_mean(x, N):\n",
    "    \"\"\"Use convolution to do running average.\"\"\"\n",
    "    return np.convolve(x, np.ones((N,))/N, mode='valid')\n",
    "\n",
    "def find_nearest(key_arr, target):\n",
    "    \"\"\"key_arr: array-like, storing keys.\n",
    "       target: the value which we want to be closest to.\"\"\"\n",
    "    idx=np.abs(key_arr-target).argmin()\n",
    "    return idx\n",
    "\n",
    "def Rm_peaks_steps(traj):\n",
    "    global threshold\n",
    "    \"\"\"\n",
    "    Remove sudden changes in the trajectory such as peaks and small steps.\n",
    "    In this method, I used gradient to identify the changes. If two nonzero\n",
    "    gradients are too close (< threshold), we shall take this range as noise.\n",
    "    \"\"\"\n",
    "    traj=np.array(traj)\n",
    "    grad_traj=np.gradient(traj) # gradient of trajectory\n",
    "    idx_grad=np.where(grad_traj!=0)[0]\n",
    "    threshold=20\n",
    "    idx0=idx_grad[0]\n",
    "    for idx in idx_grad:\n",
    "        window=idx-idx0\n",
    "        if window <= 1: # neighbor\n",
    "            continue\n",
    "        elif window > 1 and window <= threshold:\n",
    "            traj[idx0:idx0+window//2+1]=traj[idx0]\n",
    "            traj[idx0+window//2+1:idx+1]=traj[idx+1]\n",
    "            idx0=idx\n",
    "        elif window > threshold:\n",
    "            idx0=idx\n",
    "    return traj"
   ]
  },
  {
   "cell_type": "markdown",
   "metadata": {},
   "source": [
    "## Preprocessing"
   ]
  },
  {
   "cell_type": "code",
   "execution_count": 43,
   "metadata": {},
   "outputs": [],
   "source": [
    "sm_ext = running_mean(ext, 20)\n",
    "\n",
    "bins=np.arange(685, 735, 1.5)\n",
    "num_bins=len(bins)\n",
    "idx_sm_ext=np.digitize(sm_ext, bins)\n",
    "\n",
    "num_bins=len(bins)\n",
    "# Labels of all possible states in the ranges we considered.\n",
    "# For 2d systems, this is not the same as the number of representative values.\n",
    "all_combs = [i for i in range(num_bins)]\n",
    "vocab=sorted(all_combs)\n",
    "vocab_size = len(vocab)\n",
    "\n",
    "# Sequence length and shift in step between past (input) & future (output)\n",
    "\n",
    "# Batch size\n",
    "BATCH_SIZE = 64\n",
    "\n",
    "# Model parameters\n",
    "embedding_dim = 128\n",
    "rnn_units = 1024\n",
    "\n",
    "# Training epochs\n",
    "EPOCHS=40\n",
    "\n",
    "text = idx_sm_ext\n",
    "char2idx = {u:i for i, u in enumerate(vocab)}\n",
    "idx2char = np.array(vocab)\n",
    "\n",
    "text_as_int = np.array([char2idx[c] for c in text])\n"
   ]
  },
  {
   "cell_type": "code",
   "execution_count": 44,
   "metadata": {},
   "outputs": [],
   "source": [
    "class NLP(nn.Module):\n",
    "    \n",
    "    def __init__(self, input_dim, embedding_dim, rnn_units, batch_size):\n",
    "        \n",
    "        super(NLP, self).__init__()\n",
    "        \n",
    "        self.input_dim = input_dim\n",
    "        self.embedding_dim = embedding_dim\n",
    "        self.hidden_dim = rnn_units\n",
    "        self.num_layers = 1\n",
    "        self.batch_size = batch_size\n",
    "        \n",
    "        self.embedding = nn.Embedding(self.input_dim, self.embedding_dim)\n",
    "        self.lstm = nn.LSTM(self.embedding_dim, self.hidden_dim, batch_first=True)\n",
    "        self.linear = nn.Linear(self.hidden_dim, self.input_dim)\n",
    "        self.hidden = self.init_hidden()\n",
    "#         self.hidden = self.hidden.to('cuda')\n",
    "    \n",
    "    def init_hidden(self):\n",
    "        \n",
    "        return (nn.Parameter(torch.zeros(self.num_layers, self.batch_size, self.hidden_dim)).to('cuda'),\n",
    "                nn.Parameter(torch.zeros(self.num_layers, self.batch_size, self.hidden_dim)).to('cuda'))\n",
    "    \n",
    "    def forward(self, input):\n",
    "        \n",
    "        embedding_out = self.embedding(input)\n",
    "        lstm_in = embedding_out.view(self.batch_size, input.shape[1], self.embedding_dim)\n",
    "        lstm_out, self.hidden = self.lstm(lstm_in, self.hidden)\n",
    "        y_pred = self.linear(lstm_out)\n",
    "        \n",
    "        return y_pred\n",
    "    \n",
    "class NLP_GRU(nn.Module):\n",
    "    \"\"\"\n",
    "    Some bug present in code\n",
    "    \"\"\"\n",
    "    def __init__(self, input_dim, embedding_dim, rnn_units, batch_size):\n",
    "        \n",
    "        super(NLP_GRU, self).__init__()\n",
    "        \n",
    "        self.input_dim = input_dim\n",
    "        self.embedding_dim = embedding_dim\n",
    "        self.hidden_dim = rnn_units\n",
    "        self.num_layers = 1\n",
    "        self.batch_size = batch_size\n",
    "        \n",
    "        self.embedding = nn.Embedding(self.embedding_dim,self.hidden_dim)\n",
    "        self.linear = nn.Linear(self.hidden_dim, self.input_dim)\n",
    "        self.hidden = self.init_hidden()\n",
    "        \n",
    "        self.gru = nn.GRU(self.hidden_dim, self.hidden_dim, self.num_layers, batch_first=True)\n",
    "    \n",
    "    def init_hidden(self):\n",
    "        \n",
    "        return nn.Parameter(torch.zeros(1, self.batch_size, self.hidden_dim)).to('cuda').clone()\n",
    "    \n",
    "    def forward(self, input):\n",
    "        print(input.shape)\n",
    "        embedding_out = self.embedding(input)\n",
    "        print(embedding_out.shape)\n",
    "        gru_in = embedding_out.view(self.batch_size, input.shape[1], self.hidden_dim)\n",
    "        print(gru_in.shape)\n",
    "        gru_out, self.hidden = self.gru(gru_in, self.hidden)\n",
    "        y_pred = self.linear(gru_out)\n",
    "        \n",
    "        return y_pred\n"
   ]
  },
  {
   "cell_type": "code",
   "execution_count": 45,
   "metadata": {},
   "outputs": [],
   "source": [
    "def batch_data(x, batch_size):\n",
    "    \"\"\"input should be a numpy.array or list\"\"\"\n",
    "    remaind = len(x)%batch_size\n",
    "    y = x[:-remaind]\n",
    "    num_dataset = len(x)//batch_size\n",
    "    return y.reshape((num_dataset, batch_size))\n",
    "\n",
    "class seq_data(Dataset):\n",
    "    \n",
    "    def __init__(self, traj, seq_length, shift):\n",
    "        self.traj = traj\n",
    "        self.seq_length = seq_length\n",
    "        self.shift = shift\n",
    "    \n",
    "    def __len__(self):\n",
    "        return self.traj[self.shift:].shape[0]//self.seq_length\n",
    "    \n",
    "    def __getitem__(self, idx):\n",
    "        x = self.traj[:-self.shift][idx*self.seq_length:idx*self.seq_length+self.seq_length]\n",
    "        y = self.traj[self.shift:][idx*self.seq_length:idx*self.seq_length+self.seq_length]\n",
    "        return x, y"
   ]
  },
  {
   "cell_type": "code",
   "execution_count": 46,
   "metadata": {},
   "outputs": [
    {
     "name": "stdout",
     "output_type": "stream",
     "text": [
      "NLP(\n",
      "  (embedding): Embedding(34, 128)\n",
      "  (lstm): LSTM(128, 1024, batch_first=True)\n",
      "  (linear): Linear(in_features=1024, out_features=34, bias=True)\n",
      ")\n",
      "2999\n",
      "2999\n"
     ]
    }
   ],
   "source": [
    "EPOCHS = 40\n",
    "sequence_len = 100\n",
    "shift=1\n",
    "batch_size=64\n",
    "\n",
    "train_dataset = seq_data(text_as_int, sequence_len, shift)\n",
    "train_dataloader = DataLoader(train_dataset, batch_size=64, shuffle=True, drop_last=True)\n",
    "\n",
    "val_dataset = seq_data(text_as_int, sequence_len, shift)\n",
    "val_dataloader = DataLoader(val_dataset, batch_size=64, shuffle=True, drop_last=True)\n",
    "\n",
    "model = NLP(vocab_size, embedding_dim, rnn_units,batch_size).to(device)\n",
    "print(model)\n",
    "\n",
    "loss_fn = nn.CrossEntropyLoss()\n",
    "optimizer = torch.optim.Adam(model.parameters(), lr=0.001)\n",
    "print(train_dataset.__len__())\n",
    "print(val_dataset.__len__())"
   ]
  },
  {
   "cell_type": "code",
   "execution_count": 47,
   "metadata": {},
   "outputs": [
    {
     "name": "stderr",
     "output_type": "stream",
     "text": [
      "/home/darthgera123/anaconda3/envs/redner/lib/python3.7/site-packages/ipykernel_launcher.py:19: UserWarning: Implicit dimension choice for softmax has been deprecated. Change the call to include dim=X as an argument.\n"
     ]
    },
    {
     "name": "stdout",
     "output_type": "stream",
     "text": [
      "Train Loss at Epoch 0 = 39.17320513725281, Train Accuracy = 78.78736413043477\n"
     ]
    },
    {
     "name": "stderr",
     "output_type": "stream",
     "text": [
      "/home/darthgera123/anaconda3/envs/redner/lib/python3.7/site-packages/ipykernel_launcher.py:45: UserWarning: Implicit dimension choice for softmax has been deprecated. Change the call to include dim=X as an argument.\n"
     ]
    },
    {
     "name": "stdout",
     "output_type": "stream",
     "text": [
      "Val Loss at Epoch 0 = 23.956813901662827, Val Accuracy = 83.51290760869566\n",
      "Train Loss at Epoch 1 = 23.34342133998871, Train Accuracy = 83.0163043478261\n",
      "Val Loss at Epoch 1 = 22.937846690416336, Val Accuracy = 82.56895380434784\n",
      "Train Loss at Epoch 2 = 22.78545570373535, Train Accuracy = 82.32065217391305\n",
      "Val Loss at Epoch 2 = 22.599305361509323, Val Accuracy = 82.07778532608695\n",
      "Train Loss at Epoch 3 = 22.60992732644081, Train Accuracy = 81.63213315217392\n",
      "Val Loss at Epoch 3 = 22.49966651201248, Val Accuracy = 81.45889945652172\n",
      "Train Loss at Epoch 4 = 22.445077180862427, Train Accuracy = 81.76528532608695\n",
      "Val Loss at Epoch 4 = 22.394192159175873, Val Accuracy = 81.56589673913041\n",
      "Train Loss at Epoch 5 = 22.365981936454773, Train Accuracy = 81.61582880434783\n",
      "Val Loss at Epoch 5 = 22.306699454784393, Val Accuracy = 81.55298913043478\n",
      "Train Loss at Epoch 6 = 22.362559914588928, Train Accuracy = 81.56861413043477\n",
      "Val Loss at Epoch 6 = 22.270177334547043, Val Accuracy = 81.59442934782611\n",
      "Train Loss at Epoch 7 = 22.277912706136703, Train Accuracy = 81.5217391304348\n",
      "Val Loss at Epoch 7 = 22.224509239196777, Val Accuracy = 81.70006793478261\n",
      "Train Loss at Epoch 8 = 22.246474772691727, Train Accuracy = 81.73539402173911\n",
      "Val Loss at Epoch 8 = 22.164616852998734, Val Accuracy = 81.91677989130434\n",
      "Train Loss at Epoch 9 = 22.210240811109543, Train Accuracy = 81.88519021739131\n",
      "Val Loss at Epoch 9 = 22.094916492700577, Val Accuracy = 81.63892663043477\n",
      "Train Loss at Epoch 10 = 22.14850065112114, Train Accuracy = 81.6922554347826\n",
      "Val Loss at Epoch 10 = 22.13009810447693, Val Accuracy = 81.71025815217392\n",
      "Train Loss at Epoch 11 = 22.160016506910324, Train Accuracy = 81.85665760869566\n",
      "Val Loss at Epoch 11 = 22.152484476566315, Val Accuracy = 82.00917119565217\n",
      "Train Loss at Epoch 12 = 22.11249440908432, Train Accuracy = 81.77615489130434\n",
      "Val Loss at Epoch 12 = 22.070688396692276, Val Accuracy = 81.97214673913045\n",
      "Train Loss at Epoch 13 = 22.127732396125793, Train Accuracy = 81.73811141304348\n",
      "Val Loss at Epoch 13 = 22.088484466075897, Val Accuracy = 81.78974184782606\n",
      "Train Loss at Epoch 14 = 22.094556152820587, Train Accuracy = 81.875\n",
      "Val Loss at Epoch 14 = 21.992311000823975, Val Accuracy = 81.88654891304347\n",
      "Train Loss at Epoch 15 = 22.039742827415466, Train Accuracy = 81.9014945652174\n",
      "Val Loss at Epoch 15 = 21.910012364387512, Val Accuracy = 81.79313858695652\n",
      "Train Loss at Epoch 16 = 22.058951139450073, Train Accuracy = 81.78634510869564\n",
      "Val Loss at Epoch 16 = 21.950952023267746, Val Accuracy = 81.82269021739133\n",
      "Train Loss at Epoch 17 = 22.001687109470367, Train Accuracy = 81.73335597826087\n",
      "Val Loss at Epoch 17 = 21.886217683553696, Val Accuracy = 81.86820652173913\n",
      "Train Loss at Epoch 18 = 21.943919122219086, Train Accuracy = 81.7992527173913\n",
      "Val Loss at Epoch 18 = 21.91407972574234, Val Accuracy = 81.90658967391305\n",
      "Train Loss at Epoch 19 = 21.963571667671204, Train Accuracy = 81.8780570652174\n",
      "Val Loss at Epoch 19 = 21.87977632880211, Val Accuracy = 81.78974184782611\n",
      "Train Loss at Epoch 20 = 21.924919545650482, Train Accuracy = 81.8108016304348\n",
      "Val Loss at Epoch 20 = 21.880198389291763, Val Accuracy = 81.9711277173913\n",
      "Train Loss at Epoch 21 = 21.88502734899521, Train Accuracy = 81.76562500000001\n",
      "Val Loss at Epoch 21 = 21.838948875665665, Val Accuracy = 81.5360054347826\n",
      "Train Loss at Epoch 22 = 21.890474438667297, Train Accuracy = 81.82642663043475\n",
      "Val Loss at Epoch 22 = 21.819398015737534, Val Accuracy = 81.83084239130433\n",
      "Train Loss at Epoch 23 = 21.86597952246666, Train Accuracy = 81.70550271739131\n",
      "Val Loss at Epoch 23 = 21.809016466140747, Val Accuracy = 81.90319293478261\n",
      "Train Loss at Epoch 24 = 21.825760155916214, Train Accuracy = 81.74898097826086\n",
      "Val Loss at Epoch 24 = 21.749767810106277, Val Accuracy = 81.83118206521738\n",
      "Train Loss at Epoch 25 = 21.796299755573273, Train Accuracy = 81.83288043478262\n",
      "Val Loss at Epoch 25 = 21.760938674211502, Val Accuracy = 81.67459239130433\n",
      "Train Loss at Epoch 26 = 21.778334945440292, Train Accuracy = 81.65319293478261\n",
      "Val Loss at Epoch 26 = 21.68897670507431, Val Accuracy = 81.79313858695652\n",
      "Train Loss at Epoch 27 = 21.794705599546432, Train Accuracy = 81.73165760869563\n",
      "Val Loss at Epoch 27 = 21.731114208698273, Val Accuracy = 81.45346467391306\n",
      "Train Loss at Epoch 28 = 21.770578294992447, Train Accuracy = 81.61277173913044\n",
      "Val Loss at Epoch 28 = 21.64415156841278, Val Accuracy = 81.82201086956519\n",
      "Train Loss at Epoch 29 = 21.74380823969841, Train Accuracy = 81.6701766304348\n",
      "Val Loss at Epoch 29 = 21.65905037522316, Val Accuracy = 81.6803668478261\n",
      "Train Loss at Epoch 30 = 21.696211606264114, Train Accuracy = 81.62601902173915\n",
      "Val Loss at Epoch 30 = 21.60248538851738, Val Accuracy = 81.79687499999999\n",
      "Train Loss at Epoch 31 = 21.656856179237366, Train Accuracy = 81.61039402173915\n",
      "Val Loss at Epoch 31 = 21.587592393159866, Val Accuracy = 81.74558423913042\n",
      "Train Loss at Epoch 32 = 21.65860804915428, Train Accuracy = 81.47078804347828\n",
      "Val Loss at Epoch 32 = 21.546048492193222, Val Accuracy = 81.54313858695652\n",
      "Train Loss at Epoch 33 = 21.65048810839653, Train Accuracy = 81.50067934782608\n",
      "Val Loss at Epoch 33 = 21.57956224679947, Val Accuracy = 81.64843749999997\n",
      "Train Loss at Epoch 34 = 21.625541359186172, Train Accuracy = 81.58084239130436\n",
      "Val Loss at Epoch 34 = 21.58233553171158, Val Accuracy = 81.79789402173914\n",
      "Train Loss at Epoch 35 = 21.621582180261612, Train Accuracy = 81.4500679347826\n",
      "Val Loss at Epoch 35 = 21.5797336101532, Val Accuracy = 81.46161684782611\n",
      "Train Loss at Epoch 36 = 21.595435947179794, Train Accuracy = 81.36480978260869\n",
      "Val Loss at Epoch 36 = 21.456235349178314, Val Accuracy = 81.30808423913042\n",
      "Train Loss at Epoch 37 = 21.537617653608322, Train Accuracy = 81.33389945652175\n",
      "Val Loss at Epoch 37 = 21.367256551980972, Val Accuracy = 81.65047554347824\n",
      "Train Loss at Epoch 38 = 21.49695262312889, Train Accuracy = 81.63620923913044\n",
      "Val Loss at Epoch 38 = 21.415689438581467, Val Accuracy = 81.42051630434783\n",
      "Train Loss at Epoch 39 = 21.483963787555695, Train Accuracy = 81.3814538043478\n",
      "Val Loss at Epoch 39 = 21.35548573732376, Val Accuracy = 81.55434782608694\n"
     ]
    }
   ],
   "source": [
    "train_loss=[]\n",
    "train_accuracy = []\n",
    "\n",
    "val_loss=[]\n",
    "val_accuracy = []\n",
    "for epoch in range(EPOCHS):\n",
    "    epoch_loss = 0\n",
    "    epoch_accuracy = []\n",
    "    model.train()\n",
    "    for batch_X_train, batch_Y_train in train_dataloader:\n",
    "        model.hidden[0].detach_()\n",
    "        model.hidden[1].detach_()\n",
    "        batch_X_train = batch_X_train.to(device)\n",
    "        batch_Y_train = batch_Y_train.to(device)\n",
    "        y_pred = model(batch_X_train)\n",
    "        y=batch_Y_train.to(device)\n",
    "        \n",
    "        loss = loss_fn(y_pred.view(-1, vocab_size), y.view(-1))\n",
    "        y_pred_soft = torch.nn.functional.softmax(y_pred)\n",
    "        y_pred_state = torch.argmax(y_pred_soft,axis=2)\n",
    "        train_pred = torch.sum(y_pred_state==y).cpu().numpy()/(batch_size*sequence_len) \n",
    "        epoch_accuracy.append(train_pred)\n",
    "        epoch_loss += loss.item()\n",
    "        optimizer.zero_grad()\n",
    "        loss.backward(retain_graph=True)\n",
    "        optimizer.step()\n",
    "    train_loss.append(epoch_loss)\n",
    "    avg_accuracy = np.mean(epoch_accuracy)*100\n",
    "    train_accuracy.append(avg_accuracy)\n",
    "    print(f'Train Loss at Epoch {epoch} = {epoch_loss}, Train Accuracy = {avg_accuracy}')\n",
    "    \n",
    "    \n",
    "    epoch_val_loss= 0\n",
    "    epoch_val_accuracy = []\n",
    "    model.eval()\n",
    "    for batch_X_train, batch_Y_train in val_dataloader:\n",
    "        model.hidden[0].detach_()\n",
    "        model.hidden[1].detach_()\n",
    "        batch_X_train = batch_X_train.to(device)\n",
    "        batch_Y_train = batch_Y_train.to(device)\n",
    "        y_pred = model(batch_X_train)\n",
    "        y=batch_Y_train.to(device)\n",
    "        \n",
    "        loss = loss_fn(y_pred.view(-1, vocab_size), y.view(-1))\n",
    "        y_pred_soft = torch.nn.functional.softmax(y_pred)\n",
    "        y_pred_state = torch.argmax(y_pred_soft,axis=2)\n",
    "        val_pred = torch.sum(y_pred_state==y).cpu().numpy()/(batch_size*sequence_len) \n",
    "        epoch_val_accuracy.append(val_pred)\n",
    "        epoch_val_loss += loss.item()\n",
    "        \n",
    "    val_loss.append(epoch_val_loss)\n",
    "    avg_accuracy = np.mean(epoch_val_accuracy)*100\n",
    "    val_accuracy.append(avg_accuracy)\n",
    "    print(f'Val Loss at Epoch {epoch} = {epoch_val_loss}, Val Accuracy = {avg_accuracy}')"
   ]
  },
  {
   "cell_type": "code",
   "execution_count": 48,
   "metadata": {},
   "outputs": [
    {
     "data": {
      "image/png": "[encoded data removed]",
      "text/plain": [
       "<Figure size 432x288 with 1 Axes>"
      ]
     },
     "metadata": {
      "needs_background": "light"
     },
     "output_type": "display_data"
    }
   ],
   "source": [
    "import matplotlib.pyplot as plt\n",
    "plt.title(\"Loss\")\n",
    "plt.plot(train_loss,label='train')\n",
    "plt.title(\"Loss Riboswitch\")\n",
    "plt.plot(val_loss,label='val')\n",
    "plt.legend()\n",
    "plt.savefig(\"plots/loss_riboswitch.png\")"
   ]
  },
  {
   "cell_type": "code",
   "execution_count": 49,
   "metadata": {},
   "outputs": [
    {
     "data": {
      "image/png": "[encoded data removed]",
      "text/plain": [
       "<Figure size 432x288 with 1 Axes>"
      ]
     },
     "metadata": {
      "needs_background": "light"
     },
     "output_type": "display_data"
    }
   ],
   "source": [
    "plt.title(\"Accuracy Riboswitch\")\n",
    "plt.plot(train_accuracy,label='train')\n",
    "plt.plot(val_accuracy,label='val')\n",
    "plt.legend()\n",
    "plt.savefig(\"plots/accuracy_riboswitch.png\")"
   ]
  },
  {
   "cell_type": "code",
   "execution_count": 50,
   "metadata": {},
   "outputs": [],
   "source": [
    "PATH = 'training_checkpoints/test_weight_16_1000.pt'\n",
    "torch.save(model.state_dict(), PATH)"
   ]
  },
  {
   "cell_type": "code",
   "execution_count": 51,
   "metadata": {},
   "outputs": [
    {
     "data": {
      "text/plain": [
       "<All keys matched successfully>"
      ]
     },
     "execution_count": 51,
     "metadata": {},
     "output_type": "execute_result"
    }
   ],
   "source": [
    "model = NLP(vocab_size, embedding_dim, rnn_units, 1).to(device)\n",
    "model.load_state_dict(torch.load(PATH))\n"
   ]
  },
  {
   "cell_type": "code",
   "execution_count": 52,
   "metadata": {},
   "outputs": [],
   "source": [
    "def generate_text(start_string,string_length):\n",
    "    \n",
    "    input_eval = torch.tensor([char2idx[s] for s in start_string], device=device)\n",
    "    \n",
    "    text_generated = np.empty(1)\n",
    "    \n",
    "    for i in range(string_length):\n",
    "        input_eval = input_eval[np.newaxis, ...] # add a dimension for batch=1.\n",
    "        prediction=model(input_eval)\n",
    "        logits=prediction\n",
    "        p=torch.nn.functional.softmax(logits, dim=-1) # take first batch\n",
    "        predicted_id=torch.multinomial(p[0,-1], 1)\n",
    "        \n",
    "        input_eval = predicted_id\n",
    "        \n",
    "        text_generated = np.vstack((text_generated, idx2char[predicted_id].tolist()))\n",
    "\n",
    "    return text_generated[1:]\n"
   ]
  },
  {
   "cell_type": "code",
   "execution_count": 53,
   "metadata": {},
   "outputs": [],
   "source": [
    "string_length = 100\n",
    "text = idx_sm_ext[:string_length]\n",
    "prediction=generate_text(text,string_length)"
   ]
  },
  {
   "cell_type": "code",
   "execution_count": 54,
   "metadata": {},
   "outputs": [
    {
     "name": "stdout",
     "output_type": "stream",
     "text": [
      "Accuracy of test prediction of sequence length 100 is 37.0%\n"
     ]
    }
   ],
   "source": [
    "test_accuracy = np.sum(np.ravel(prediction)==idx_sm_ext[string_length:2*string_length])\n",
    "test_accuracy = (test_accuracy/string_length) * 100\n",
    "print(f\"Accuracy of test prediction of sequence length {string_length} is {test_accuracy}%\")"
   ]
  },
  {
   "cell_type": "code",
   "execution_count": null,
   "metadata": {},
   "outputs": [],
   "source": []
  }
 ],
 "metadata": {
  "kernelspec": {
   "display_name": "Python 3",
   "language": "python",
   "name": "python3"
  },
  "language_info": {
   "codemirror_mode": {
    "name": "ipython",
    "version": 3
   },
   "file_extension": ".py",
   "mimetype": "text/x-python",
   "name": "python",
   "nbconvert_exporter": "python",
   "pygments_lexer": "ipython3",
   "version": "3.7.9"
  }
 },
 "nbformat": 4,
 "nbformat_minor": 4
}

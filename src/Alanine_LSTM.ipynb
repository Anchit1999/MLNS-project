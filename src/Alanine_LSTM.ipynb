{
 "cells": [
  {
   "cell_type": "code",
   "execution_count": 1,
   "metadata": {},
   "outputs": [],
   "source": [
    "import numpy as np\n",
    "import pandas as pd\n",
    "import sklearn\n",
    "import torch\n",
    "import torch.nn as nn\n",
    "import matplotlib.pyplot as plt\n",
    "from torch.autograd import Variable\n",
    "from tqdm import tqdm\n",
    "from torch.utils.data import Dataset, DataLoader"
   ]
  },
  {
   "cell_type": "code",
   "execution_count": 2,
   "metadata": {},
   "outputs": [],
   "source": [
    "infile = infile = '../datasets/alanine/COLVAR_T450'\n",
    "phi, psi=np.loadtxt(infile, unpack=True, usecols=(1,2), skiprows=7)"
   ]
  },
  {
   "cell_type": "markdown",
   "metadata": {},
   "source": [
    "There are 100,000 rows that are present in the file. We will be using the first 2000 for training and 500 for validation. Then we give the first 2500 for test an generate the next 1000 to see the accuracy."
   ]
  },
  {
   "cell_type": "code",
   "execution_count": 8,
   "metadata": {},
   "outputs": [],
   "source": [
    "device = torch.device(\"cuda\")\n",
    "\n",
    "\n",
    "def running_mean(x, N):\n",
    "    \"\"\"Use convolution to do running average.\"\"\"\n",
    "    return np.convolve(x, np.ones((N,))/N, mode='valid')\n",
    "\n",
    "def find_nearest(key_arr, target):\n",
    "    \"\"\"key_arr: array-like, storing keys.\n",
    "       target: the value which we want to be closest to.\"\"\"\n",
    "    idx=np.abs(key_arr-target).argmin()\n",
    "    return idx\n",
    "\n",
    "def Rm_peaks_steps(traj):\n",
    "    global threshold\n",
    "    \"\"\"\n",
    "    Remove sudden changes in the trajectory such as peaks and small steps.\n",
    "    In this method, I used gradient to identify the changes. If two nonzero\n",
    "    gradients are too close (< threshold), we shall take this range as noise.\n",
    "    \"\"\"\n",
    "    traj=np.array(traj)\n",
    "    grad_traj=np.gradient(traj) # gradient of trajectory\n",
    "    idx_grad=np.where(grad_traj!=0)[0]\n",
    "    threshold=20\n",
    "    idx0=idx_grad[0]\n",
    "    for idx in idx_grad:\n",
    "        window=idx-idx0\n",
    "        if window <= 1: # neighbor\n",
    "            continue\n",
    "        elif window > 1 and window <= threshold:\n",
    "            traj[idx0:idx0+window//2+1]=traj[idx0]\n",
    "            traj[idx0+window//2+1:idx+1]=traj[idx+1]\n",
    "            idx0=idx\n",
    "        elif window > threshold:\n",
    "            idx0=idx\n",
    "    return traj"
   ]
  },
  {
   "cell_type": "markdown",
   "metadata": {},
   "source": [
    "## Preprocessing"
   ]
  },
  {
   "cell_type": "code",
   "execution_count": 66,
   "metadata": {},
   "outputs": [],
   "source": [
    "bins=np.arange(-0.9, 1.1, 0.1)\n",
    "num_bins=len(bins)\n",
    "# Labels of all possible states in the ranges we considered.\n",
    "# For 2d systems, this is not the same as the number of representative values.\n",
    "all_combs = [i for i in range(num_bins)]\n",
    "vocab=sorted(all_combs)\n",
    "vocab_size = len(vocab)\n",
    "\n",
    "# Sequence length and shift in step between past (input) & future (output)\n",
    "\n",
    "# Batch size\n",
    "BATCH_SIZE = 64\n",
    "\n",
    "# Model parameters\n",
    "embedding_dim = 128\n",
    "rnn_units = 1024\n",
    "\n",
    "# Training epochs\n",
    "EPOCHS=40\n",
    "\n",
    "cos_phi=np.cos(phi)\n",
    "sin_phi=np.sin(phi)\n",
    "cos_psi=np.cos(psi)\n",
    "sin_psi=np.sin(psi)\n",
    "\n",
    "# Spatially discretized data\n",
    "idx_sin_phi=np.digitize(cos_phi, bins)\n",
    "idx_sin_psi=np.digitize(sin_psi, bins)\n",
    "\n",
    "idx_2d=list(idx_sin_phi[:10000])\n",
    "text = idx_2d\n",
    "\n",
    "char2idx = {u:i for i, u in enumerate(vocab)} # Mapping from characters to indices\n",
    "idx2char = np.array(vocab)\n",
    "\n",
    "text_as_int = np.array([char2idx[c] for c in text])\n",
    "\n",
    "idx_sin_phi_v=np.digitize(sin_phi, bins)\n",
    "idx_2dv=list(idx_sin_phi_v)\n",
    "\n",
    "vali = idx_2dv[:200000]\n",
    "vali_as_int = np.array([char2idx[c] for c in vali])\n"
   ]
  },
  {
   "cell_type": "code",
   "execution_count": 67,
   "metadata": {},
   "outputs": [],
   "source": [
    "class NLP(nn.Module):\n",
    "    \n",
    "    def __init__(self, input_dim, embedding_dim, rnn_units, batch_size):\n",
    "        \n",
    "        super(NLP, self).__init__()\n",
    "        \n",
    "        self.input_dim = input_dim\n",
    "        self.embedding_dim = embedding_dim\n",
    "        self.hidden_dim = rnn_units\n",
    "        self.num_layers = 1\n",
    "        self.batch_size = batch_size\n",
    "        \n",
    "        self.embedding = nn.Embedding(self.input_dim, self.embedding_dim)\n",
    "        self.lstm = nn.LSTM(self.embedding_dim, self.hidden_dim, batch_first=True)\n",
    "        self.linear = nn.Linear(self.hidden_dim, self.input_dim)\n",
    "        self.hidden = self.init_hidden()\n",
    "#         self.hidden = self.hidden.to('cuda')\n",
    "    \n",
    "    def init_hidden(self):\n",
    "        \n",
    "        return (nn.Parameter(torch.zeros(self.num_layers, self.batch_size, self.hidden_dim)).to('cuda'),\n",
    "                nn.Parameter(torch.zeros(self.num_layers, self.batch_size, self.hidden_dim)).to('cuda'))\n",
    "    \n",
    "    def forward(self, input):\n",
    "        \n",
    "        embedding_out = self.embedding(input)\n",
    "        lstm_in = embedding_out.view(self.batch_size, input.shape[1], self.embedding_dim)\n",
    "        lstm_out, self.hidden = self.lstm(lstm_in, self.hidden)\n",
    "        y_pred = self.linear(lstm_out)\n",
    "        \n",
    "        return y_pred\n",
    "    \n",
    "class NLP_GRU(nn.Module):\n",
    "    \"\"\"\n",
    "    Some bug present in code\n",
    "    \"\"\"\n",
    "    def __init__(self, input_dim, embedding_dim, rnn_units, batch_size):\n",
    "        \n",
    "        super(NLP_GRU, self).__init__()\n",
    "        \n",
    "        self.input_dim = input_dim\n",
    "        self.embedding_dim = embedding_dim\n",
    "        self.hidden_dim = rnn_units\n",
    "        self.num_layers = 1\n",
    "        self.batch_size = batch_size\n",
    "        \n",
    "        self.embedding = nn.Embedding(self.embedding_dim,self.hidden_dim)\n",
    "        self.linear = nn.Linear(self.hidden_dim, self.input_dim)\n",
    "        self.hidden = self.init_hidden()\n",
    "        \n",
    "        self.gru = nn.GRU(self.hidden_dim, self.hidden_dim, self.num_layers, batch_first=True)\n",
    "    \n",
    "    def init_hidden(self):\n",
    "        \n",
    "        return nn.Parameter(torch.zeros(1, self.batch_size, self.hidden_dim)).to('cuda').clone()\n",
    "    \n",
    "    def forward(self, input):\n",
    "        print(input.shape)\n",
    "        embedding_out = self.embedding(input)\n",
    "        print(embedding_out.shape)\n",
    "        gru_in = embedding_out.view(self.batch_size, input.shape[1], self.hidden_dim)\n",
    "        print(gru_in.shape)\n",
    "        gru_out, self.hidden = self.gru(gru_in, self.hidden)\n",
    "        y_pred = self.linear(gru_out)\n",
    "        \n",
    "        return y_pred\n"
   ]
  },
  {
   "cell_type": "code",
   "execution_count": 68,
   "metadata": {},
   "outputs": [],
   "source": [
    "def batch_data(x, batch_size):\n",
    "    \"\"\"input should be a numpy.array or list\"\"\"\n",
    "    remaind = len(x)%batch_size\n",
    "    y = x[:-remaind]\n",
    "    num_dataset = len(x)//batch_size\n",
    "    return y.reshape((num_dataset, batch_size))\n",
    "\n",
    "class seq_data(Dataset):\n",
    "    \n",
    "    def __init__(self, traj, seq_length, shift):\n",
    "        self.traj = traj\n",
    "        self.seq_length = seq_length\n",
    "        self.shift = shift\n",
    "    \n",
    "    def __len__(self):\n",
    "        return self.traj[self.shift:].shape[0]//self.seq_length\n",
    "    \n",
    "    def __getitem__(self, idx):\n",
    "        x = self.traj[:-self.shift][idx*self.seq_length:idx*self.seq_length+self.seq_length]\n",
    "        y = self.traj[self.shift:][idx*self.seq_length:idx*self.seq_length+self.seq_length]\n",
    "        return x, y"
   ]
  },
  {
   "cell_type": "code",
   "execution_count": 69,
   "metadata": {},
   "outputs": [
    {
     "name": "stdout",
     "output_type": "stream",
     "text": [
      "NLP(\n",
      "  (embedding): Embedding(20, 128)\n",
      "  (lstm): LSTM(128, 1024, batch_first=True)\n",
      "  (linear): Linear(in_features=1024, out_features=20, bias=True)\n",
      ")\n",
      "99\n",
      "1999\n"
     ]
    }
   ],
   "source": [
    "EPOCHS = 40\n",
    "sequence_len = 100\n",
    "shift=1\n",
    "batch_size=64\n",
    "\n",
    "train_dataset = seq_data(text_as_int, sequence_len, shift)\n",
    "train_dataloader = DataLoader(train_dataset, batch_size=64, shuffle=True, drop_last=True)\n",
    "\n",
    "val_dataset = seq_data(vali_as_int, sequence_len, shift)\n",
    "val_dataloader = DataLoader(val_dataset, batch_size=64, shuffle=True, drop_last=True)\n",
    "\n",
    "model = NLP(vocab_size, embedding_dim, rnn_units,batch_size).to(device)\n",
    "print(model)\n",
    "\n",
    "loss_fn = nn.CrossEntropyLoss()\n",
    "optimizer = torch.optim.Adam(model.parameters(), lr=0.001)\n",
    "print(train_dataset.__len__())\n",
    "print(val_dataset.__len__())"
   ]
  },
  {
   "cell_type": "code",
   "execution_count": 70,
   "metadata": {},
   "outputs": [
    {
     "name": "stderr",
     "output_type": "stream",
     "text": [
      "/home/darthgera123/anaconda3/envs/redner/lib/python3.7/site-packages/ipykernel_launcher.py:19: UserWarning: Implicit dimension choice for softmax has been deprecated. Change the call to include dim=X as an argument.\n",
      "/home/darthgera123/anaconda3/envs/redner/lib/python3.7/site-packages/ipykernel_launcher.py:45: UserWarning: Implicit dimension choice for softmax has been deprecated. Change the call to include dim=X as an argument.\n"
     ]
    },
    {
     "name": "stdout",
     "output_type": "stream",
     "text": [
      "Train Loss at Epoch 0 = 2.9636106491088867, Train Accuracy = 13.218750000000002\n",
      "Val Loss at Epoch 0 = 1.8336318910121918, Val Accuracy = 39.03074596774195\n",
      "Train Loss at Epoch 1 = 2.6509172916412354, Train Accuracy = 27.03125\n",
      "Val Loss at Epoch 1 = 1.4772556215524673, Val Accuracy = 31.329637096774192\n",
      "Train Loss at Epoch 2 = 2.3466849327087402, Train Accuracy = 22.609375\n",
      "Val Loss at Epoch 2 = 1.5391477406024934, Val Accuracy = 33.97530241935483\n",
      "Train Loss at Epoch 3 = 2.226356029510498, Train Accuracy = 22.40625\n",
      "Val Loss at Epoch 3 = 1.5967880129814147, Val Accuracy = 23.225302419354836\n",
      "Train Loss at Epoch 4 = 2.1439623832702637, Train Accuracy = 22.8125\n",
      "Val Loss at Epoch 4 = 1.5598181128501891, Val Accuracy = 32.69506048387096\n",
      "Train Loss at Epoch 5 = 2.129157066345215, Train Accuracy = 22.5625\n",
      "Val Loss at Epoch 5 = 1.5047309339046477, Val Accuracy = 37.164314516129025\n",
      "Train Loss at Epoch 6 = 2.0491793155670166, Train Accuracy = 22.125\n",
      "Val Loss at Epoch 6 = 1.455846333503723, Val Accuracy = 37.46068548387097\n",
      "Train Loss at Epoch 7 = 2.0425760746002197, Train Accuracy = 22.109375\n",
      "Val Loss at Epoch 7 = 1.4379044950008393, Val Accuracy = 31.39314516129032\n",
      "Train Loss at Epoch 8 = 2.0096161365509033, Train Accuracy = 22.671875\n",
      "Val Loss at Epoch 8 = 1.4469756364822388, Val Accuracy = 18.29133064516129\n",
      "Train Loss at Epoch 9 = 1.9729822874069214, Train Accuracy = 22.40625\n",
      "Val Loss at Epoch 9 = 1.4808498293161392, Val Accuracy = 16.156754032258068\n",
      "Train Loss at Epoch 10 = 1.969183087348938, Train Accuracy = 21.40625\n",
      "Val Loss at Epoch 10 = 1.5090726792812348, Val Accuracy = 15.237903225806454\n",
      "Train Loss at Epoch 11 = 1.9330565929412842, Train Accuracy = 21.609375\n",
      "Val Loss at Epoch 11 = 1.5024877071380616, Val Accuracy = 14.932963709677422\n",
      "Train Loss at Epoch 12 = 1.8935481309890747, Train Accuracy = 21.21875\n",
      "Val Loss at Epoch 12 = 1.4829430609941483, Val Accuracy = 14.83921370967742\n",
      "Train Loss at Epoch 13 = 1.9475659132003784, Train Accuracy = 20.953125\n",
      "Val Loss at Epoch 13 = 1.462787225842476, Val Accuracy = 14.203629032258064\n",
      "Train Loss at Epoch 14 = 1.879486083984375, Train Accuracy = 21.015625\n",
      "Val Loss at Epoch 14 = 1.4482033640146255, Val Accuracy = 14.154233870967738\n",
      "Train Loss at Epoch 15 = 1.9177393913269043, Train Accuracy = 20.0\n",
      "Val Loss at Epoch 15 = 1.4507270723581314, Val Accuracy = 14.198084677419354\n",
      "Train Loss at Epoch 16 = 1.910109043121338, Train Accuracy = 20.671875\n",
      "Val Loss at Epoch 16 = 1.4714473336935043, Val Accuracy = 14.209677419354842\n",
      "Train Loss at Epoch 17 = 1.897708535194397, Train Accuracy = 20.140625\n",
      "Val Loss at Epoch 17 = 1.4854320168495179, Val Accuracy = 14.063508064516128\n",
      "Train Loss at Epoch 18 = 1.8591848611831665, Train Accuracy = 19.59375\n",
      "Val Loss at Epoch 18 = 1.482101884484291, Val Accuracy = 13.349798387096772\n",
      "Train Loss at Epoch 19 = 1.8792396783828735, Train Accuracy = 19.71875\n",
      "Val Loss at Epoch 19 = 1.4688170552253723, Val Accuracy = 12.351814516129034\n",
      "Train Loss at Epoch 20 = 1.8342406749725342, Train Accuracy = 18.78125\n",
      "Val Loss at Epoch 20 = 1.4634202361106872, Val Accuracy = 12.333165322580648\n",
      "Train Loss at Epoch 21 = 1.7769192457199097, Train Accuracy = 19.703125\n",
      "Val Loss at Epoch 21 = 1.4752981662750244, Val Accuracy = 12.33467741935484\n",
      "Train Loss at Epoch 22 = 1.844056248664856, Train Accuracy = 18.875\n",
      "Val Loss at Epoch 22 = 1.4917223393917083, Val Accuracy = 12.227318548387098\n",
      "Train Loss at Epoch 23 = 1.8583108186721802, Train Accuracy = 18.796875\n",
      "Val Loss at Epoch 23 = 1.5011279195547105, Val Accuracy = 11.78931451612903\n",
      "Train Loss at Epoch 24 = 1.802585482597351, Train Accuracy = 18.46875\n",
      "Val Loss at Epoch 24 = 1.4857925653457642, Val Accuracy = 11.87046370967742\n",
      "Train Loss at Epoch 25 = 1.8404203653335571, Train Accuracy = 18.796875\n",
      "Val Loss at Epoch 25 = 1.4571665823459625, Val Accuracy = 12.067540322580648\n",
      "Train Loss at Epoch 26 = 1.8098727464675903, Train Accuracy = 18.203125\n",
      "Val Loss at Epoch 26 = 1.4456690281629563, Val Accuracy = 11.943548387096774\n",
      "Train Loss at Epoch 27 = 1.831343412399292, Train Accuracy = 17.8125\n",
      "Val Loss at Epoch 27 = 1.452401077747345, Val Accuracy = 11.734879032258066\n",
      "Train Loss at Epoch 28 = 1.8140006065368652, Train Accuracy = 18.140625\n",
      "Val Loss at Epoch 28 = 1.4794480353593826, Val Accuracy = 11.335181451612906\n",
      "Train Loss at Epoch 29 = 1.7914761304855347, Train Accuracy = 18.203125\n",
      "Val Loss at Epoch 29 = 1.5036608040332795, Val Accuracy = 11.414818548387098\n",
      "Train Loss at Epoch 30 = 1.8078439235687256, Train Accuracy = 18.328125\n",
      "Val Loss at Epoch 30 = 1.5113204777240754, Val Accuracy = 11.619455645161288\n",
      "Train Loss at Epoch 31 = 1.7760543823242188, Train Accuracy = 18.03125\n",
      "Val Loss at Epoch 31 = 1.4935080319643022, Val Accuracy = 12.145665322580648\n",
      "Train Loss at Epoch 32 = 1.8090513944625854, Train Accuracy = 17.765625\n",
      "Val Loss at Epoch 32 = 1.486778622865677, Val Accuracy = 12.328629032258064\n",
      "Train Loss at Epoch 33 = 1.7839486598968506, Train Accuracy = 18.109375\n",
      "Val Loss at Epoch 33 = 1.503085458278656, Val Accuracy = 12.237903225806452\n",
      "Train Loss at Epoch 34 = 1.802223563194275, Train Accuracy = 17.984375\n",
      "Val Loss at Epoch 34 = 1.528319975733757, Val Accuracy = 11.964717741935484\n",
      "Train Loss at Epoch 35 = 1.8186839818954468, Train Accuracy = 18.015625\n",
      "Val Loss at Epoch 35 = 1.5522669702768326, Val Accuracy = 11.811995967741936\n",
      "Train Loss at Epoch 36 = 1.7608352899551392, Train Accuracy = 17.828125\n",
      "Val Loss at Epoch 36 = 1.5496874809265138, Val Accuracy = 11.959677419354838\n",
      "Train Loss at Epoch 37 = 1.7291724681854248, Train Accuracy = 18.015625\n",
      "Val Loss at Epoch 37 = 1.5180199146270752, Val Accuracy = 12.89616935483871\n",
      "Train Loss at Epoch 38 = 1.8252017498016357, Train Accuracy = 18.1875\n",
      "Val Loss at Epoch 38 = 1.5082218647003174, Val Accuracy = 12.795866935483872\n",
      "Train Loss at Epoch 39 = 1.7391221523284912, Train Accuracy = 18.65625\n",
      "Val Loss at Epoch 39 = 1.5166908591985702, Val Accuracy = 12.50201612903226\n"
     ]
    }
   ],
   "source": [
    "train_loss=[]\n",
    "train_accuracy = []\n",
    "\n",
    "val_loss=[]\n",
    "val_accuracy = []\n",
    "for epoch in range(EPOCHS):\n",
    "    epoch_loss = 0\n",
    "    epoch_accuracy = []\n",
    "    model.train()\n",
    "    for batch_X_train, batch_Y_train in train_dataloader:\n",
    "        model.hidden[0].detach_()\n",
    "        model.hidden[1].detach_()\n",
    "        batch_X_train = batch_X_train.to(device)\n",
    "        batch_Y_train = batch_Y_train.to(device)\n",
    "        y_pred = model(batch_X_train)\n",
    "        y=batch_Y_train.to(device)\n",
    "        \n",
    "        loss = loss_fn(y_pred.view(-1, vocab_size), y.view(-1))\n",
    "        y_pred_soft = torch.nn.functional.softmax(y_pred)\n",
    "        y_pred_state = torch.argmax(y_pred_soft,axis=2)\n",
    "        train_pred = torch.sum(y_pred_state==y).cpu().numpy()/(batch_size*sequence_len) \n",
    "        epoch_accuracy.append(train_pred)\n",
    "        epoch_loss += loss.item()\n",
    "        optimizer.zero_grad()\n",
    "        loss.backward(retain_graph=True)\n",
    "        optimizer.step()\n",
    "    train_loss.append(epoch_loss)\n",
    "    avg_accuracy = np.mean(epoch_accuracy)*100\n",
    "    train_accuracy.append(avg_accuracy)\n",
    "    print(f'Train Loss at Epoch {epoch} = {epoch_loss}, Train Accuracy = {avg_accuracy}')\n",
    "    \n",
    "    \n",
    "    epoch_val_loss= 0\n",
    "    epoch_val_accuracy = []\n",
    "    model.eval()\n",
    "    for batch_X_train, batch_Y_train in val_dataloader:\n",
    "        model.hidden[0].detach_()\n",
    "        model.hidden[1].detach_()\n",
    "        batch_X_train = batch_X_train.to(device)\n",
    "        batch_Y_train = batch_Y_train.to(device)\n",
    "        y_pred = model(batch_X_train)\n",
    "        y=batch_Y_train.to(device)\n",
    "        \n",
    "        loss = loss_fn(y_pred.view(-1, vocab_size), y.view(-1))\n",
    "        y_pred_soft = torch.nn.functional.softmax(y_pred)\n",
    "        y_pred_state = torch.argmax(y_pred_soft,axis=2)\n",
    "        val_pred = torch.sum(y_pred_state==y).cpu().numpy()/(batch_size*sequence_len) \n",
    "        epoch_val_accuracy.append(val_pred)\n",
    "        epoch_val_loss += loss.item()\n",
    "        \n",
    "    val_loss.append(epoch_val_loss/40)\n",
    "    avg_accuracy = np.mean(epoch_val_accuracy)*100\n",
    "    val_accuracy.append(avg_accuracy)\n",
    "    print(f'Val Loss at Epoch {epoch} = {epoch_val_loss/40}, Val Accuracy = {avg_accuracy}')"
   ]
  },
  {
   "cell_type": "code",
   "execution_count": 71,
   "metadata": {},
   "outputs": [
    {
     "data": {
      "image/png": "[encoded data removed]",
      "text/plain": [
       "<Figure size 432x288 with 1 Axes>"
      ]
     },
     "metadata": {
      "needs_background": "light"
     },
     "output_type": "display_data"
    }
   ],
   "source": [
    "import matplotlib.pyplot as plt\n",
    "plt.title(\"Loss\")\n",
    "plt.plot(train_loss,label='train')\n",
    "plt.title(\"Loss Cos Phi\")\n",
    "plt.plot(val_loss,label='val')\n",
    "plt.legend()\n",
    "plt.savefig(\"plots/loss_cos_phi.png\")"
   ]
  },
  {
   "cell_type": "code",
   "execution_count": 72,
   "metadata": {},
   "outputs": [
    {
     "data": {
      "image/png": "[encoded data removed]",
      "text/plain": [
       "<Figure size 432x288 with 1 Axes>"
      ]
     },
     "metadata": {
      "needs_background": "light"
     },
     "output_type": "display_data"
    }
   ],
   "source": [
    "plt.title(\"Accuracy Cos Phi\")\n",
    "plt.plot(train_accuracy,label='train')\n",
    "plt.plot(val_accuracy,label='val')\n",
    "plt.legend()\n",
    "plt.savefig(\"plots/accuracy_cos_phi.png\")"
   ]
  },
  {
   "cell_type": "code",
   "execution_count": 51,
   "metadata": {},
   "outputs": [],
   "source": [
    "PATH = 'training_checkpoints/test_weight_16_1000.pt'\n",
    "torch.save(model.state_dict(), PATH)"
   ]
  },
  {
   "cell_type": "code",
   "execution_count": 52,
   "metadata": {},
   "outputs": [
    {
     "data": {
      "text/plain": [
       "<All keys matched successfully>"
      ]
     },
     "execution_count": 52,
     "metadata": {},
     "output_type": "execute_result"
    }
   ],
   "source": [
    "model = NLP(vocab_size, embedding_dim, rnn_units, 1).to(device)\n",
    "model.load_state_dict(torch.load(PATH))\n"
   ]
  },
  {
   "cell_type": "code",
   "execution_count": 53,
   "metadata": {},
   "outputs": [],
   "source": [
    "def generate_text(start_string,string_length):\n",
    "    \n",
    "    input_eval = torch.tensor([char2idx[s] for s in start_string], device=device)\n",
    "    \n",
    "    text_generated = np.empty(1)\n",
    "    \n",
    "    for i in range(string_length):\n",
    "        input_eval = input_eval[np.newaxis, ...] # add a dimension for batch=1.\n",
    "        prediction=model(input_eval)\n",
    "        logits=prediction\n",
    "        p=torch.nn.functional.softmax(logits, dim=-1) # take first batch\n",
    "        predicted_id=torch.multinomial(p[0,-1], 1)\n",
    "        \n",
    "        input_eval = predicted_id\n",
    "        \n",
    "        text_generated = np.vstack((text_generated, idx2char[predicted_id].tolist()))\n",
    "\n",
    "    return text_generated[1:]\n"
   ]
  },
  {
   "cell_type": "code",
   "execution_count": 64,
   "metadata": {},
   "outputs": [],
   "source": [
    "string_length = 1000\n",
    "text = idx_2d[:string_length]\n",
    "prediction=generate_text(text,string_length)"
   ]
  },
  {
   "cell_type": "code",
   "execution_count": 65,
   "metadata": {},
   "outputs": [
    {
     "name": "stdout",
     "output_type": "stream",
     "text": [
      "Accuracy of test prediction of sequence length 1000 is 11.4%\n"
     ]
    }
   ],
   "source": [
    "test_accuracy = np.sum(np.ravel(prediction)==idx_2d[string_length:2*string_length])\n",
    "test_accuracy = (test_accuracy/string_length) * 100\n",
    "print(f\"Accuracy of test prediction of sequence length {string_length} is {test_accuracy}%\")"
   ]
  },
  {
   "cell_type": "code",
   "execution_count": null,
   "metadata": {},
   "outputs": [],
   "source": []
  }
 ],
 "metadata": {
  "kernelspec": {
   "display_name": "Python 3",
   "language": "python",
   "name": "python3"
  },
  "language_info": {
   "codemirror_mode": {
    "name": "ipython",
    "version": 3
   },
   "file_extension": ".py",
   "mimetype": "text/x-python",
   "name": "python",
   "nbconvert_exporter": "python",
   "pygments_lexer": "ipython3",
   "version": "3.7.9"
  }
 },
 "nbformat": 4,
 "nbformat_minor": 4
}

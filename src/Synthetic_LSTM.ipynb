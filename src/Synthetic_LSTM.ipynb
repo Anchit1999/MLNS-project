{
 "cells": [
  {
   "cell_type": "code",
   "execution_count": 1,
   "metadata": {},
   "outputs": [],
   "source": [
    "import numpy as np\n",
    "import pandas as pd\n",
    "import sklearn\n",
    "import torch\n",
    "import torch.nn as nn\n",
    "import matplotlib.pyplot as plt\n",
    "from torch.autograd import Variable\n",
    "from tqdm import tqdm\n",
    "from torch.utils.data import Dataset, DataLoader"
   ]
  },
  {
   "cell_type": "code",
   "execution_count": 50,
   "metadata": {},
   "outputs": [],
   "source": [
    "infile = '../datasets/synthetic/three_state/xvyw2beta9.5gammax1.0gammay1.0epsln1.0sgma1.0A1.0x01.122w0.5B0.15a1.0_h0.01_1.txt'\n",
    "input_x, _,_,_,_,_,_,_,_=np.loadtxt(infile, unpack=True, max_rows=100000,skiprows=1)"
   ]
  },
  {
   "cell_type": "markdown",
   "metadata": {},
   "source": [
    "There are 100,000 rows that are present in the file. We will be using the first 2000 for training and 500 for validation. Then we give the first 2500 for test an generate the next 1000 to see the accuracy."
   ]
  },
  {
   "cell_type": "code",
   "execution_count": 51,
   "metadata": {},
   "outputs": [],
   "source": [
    "device = torch.device(\"cuda\")\n",
    "\n",
    "num_bins=3\n",
    "sm_length=20\n",
    "def running_mean(x, N):\n",
    "    \"\"\"Use convolution to do running average.\"\"\"\n",
    "    return np.convolve(x, np.ones((N,))/N, mode='valid')\n",
    "\n",
    "def find_nearest(key_arr, target):\n",
    "    \"\"\"key_arr: array-like, storing keys.\n",
    "       target: the value which we want to be closest to.\"\"\"\n",
    "    idx=np.abs(key_arr-target).argmin()\n",
    "    return idx\n",
    "\n",
    "def Rm_peaks_steps(traj):\n",
    "    global threshold\n",
    "    \"\"\"\n",
    "    Remove sudden changes in the trajectory such as peaks and small steps.\n",
    "    In this method, I used gradient to identify the changes. If two nonzero\n",
    "    gradients are too close (< threshold), we shall take this range as noise.\n",
    "    \"\"\"\n",
    "    traj=np.array(traj)\n",
    "    grad_traj=np.gradient(traj) # gradient of trajectory\n",
    "    idx_grad=np.where(grad_traj!=0)[0]\n",
    "    threshold=20\n",
    "    idx0=idx_grad[0]\n",
    "    for idx in idx_grad:\n",
    "        window=idx-idx0\n",
    "        if window <= 1: # neighbor\n",
    "            continue\n",
    "        elif window > 1 and window <= threshold:\n",
    "            traj[idx0:idx0+window//2+1]=traj[idx0]\n",
    "            traj[idx0+window//2+1:idx+1]=traj[idx+1]\n",
    "            idx0=idx\n",
    "        elif window > threshold:\n",
    "            idx0=idx\n",
    "    return traj"
   ]
  },
  {
   "cell_type": "markdown",
   "metadata": {},
   "source": [
    "## Preprocessing"
   ]
  },
  {
   "cell_type": "code",
   "execution_count": 52,
   "metadata": {},
   "outputs": [],
   "source": [
    "# X=[2.0, 0.5, -0.5, -2.0]\n",
    "X = [-1.5,0,1.5]\n",
    "input_x = running_mean(input_x, sm_length) # smooothen data.\n",
    "idx_x = map(lambda x: find_nearest(X, x), input_x) # convert to three bins.\n",
    "\n",
    "idx_2d=list(idx_x) # list(zip(idx_x, idx_y))\n",
    "idx_2d = Rm_peaks_steps(idx_2d) # remove peaks and short steps\n",
    "\n",
    "text = idx_2d\n",
    "\n",
    "\n",
    "all_combs = [i for i in range(num_bins)]\n",
    "vocab=sorted(all_combs)\n",
    "# Length of the vocabulary in chars\n",
    "vocab_size = len(vocab)\n",
    "# The embedding dimension\n",
    "embedding_dim = 8\n",
    "# Number of RNN units\n",
    "rnn_units = 32\n",
    "# Batch size\n",
    "batch_size=64\n",
    "\n",
    "# In[5]:\n",
    "\n",
    "\n",
    "# Creating a mapping from unique characters to indices\n",
    "char2idx = {u:i for i, u in enumerate(vocab)}\n",
    "idx2char = np.array(vocab)\n",
    "\n",
    "text_as_int = np.array([char2idx[c] for c in text])"
   ]
  },
  {
   "cell_type": "code",
   "execution_count": 53,
   "metadata": {},
   "outputs": [],
   "source": [
    "class NLP(nn.Module):\n",
    "    \n",
    "    def __init__(self, input_dim, embedding_dim, rnn_units, batch_size):\n",
    "        \n",
    "        super(NLP, self).__init__()\n",
    "        \n",
    "        self.input_dim = input_dim\n",
    "        self.embedding_dim = embedding_dim\n",
    "        self.hidden_dim = rnn_units\n",
    "        self.num_layers = 1\n",
    "        self.batch_size = batch_size\n",
    "        \n",
    "        self.embedding = nn.Embedding(self.input_dim, self.embedding_dim)\n",
    "        self.lstm = nn.LSTM(self.embedding_dim, self.hidden_dim, batch_first=True)\n",
    "        self.linear = nn.Linear(self.hidden_dim, self.input_dim)\n",
    "        self.hidden = self.init_hidden()\n",
    "#         self.hidden = self.hidden.to('cuda')\n",
    "    \n",
    "    def init_hidden(self):\n",
    "        \n",
    "        return (nn.Parameter(torch.zeros(self.num_layers, self.batch_size, self.hidden_dim)).to('cuda'),\n",
    "                nn.Parameter(torch.zeros(self.num_layers, self.batch_size, self.hidden_dim)).to('cuda'))\n",
    "    \n",
    "    def forward(self, input):\n",
    "        \n",
    "        embedding_out = self.embedding(input)\n",
    "        lstm_in = embedding_out.view(self.batch_size, input.shape[1], self.embedding_dim)\n",
    "        lstm_out, self.hidden = self.lstm(lstm_in, self.hidden)\n",
    "        y_pred = self.linear(lstm_out)\n",
    "        \n",
    "        return y_pred\n",
    "    \n",
    "class NLP_GRU(nn.Module):\n",
    "    \"\"\"\n",
    "    Some bug present in code\n",
    "    \"\"\"\n",
    "    def __init__(self, input_dim, embedding_dim, rnn_units, batch_size):\n",
    "        \n",
    "        super(NLP_GRU, self).__init__()\n",
    "        \n",
    "        self.input_dim = input_dim\n",
    "        self.embedding_dim = embedding_dim\n",
    "        self.hidden_dim = rnn_units\n",
    "        self.num_layers = 1\n",
    "        self.batch_size = batch_size\n",
    "        \n",
    "        self.embedding = nn.Embedding(self.embedding_dim,self.hidden_dim)\n",
    "        self.linear = nn.Linear(self.hidden_dim, self.input_dim)\n",
    "        self.hidden = self.init_hidden()\n",
    "        \n",
    "        self.gru = nn.GRU(self.hidden_dim, self.hidden_dim, self.num_layers, batch_first=True)\n",
    "    \n",
    "    def init_hidden(self):\n",
    "        \n",
    "        return nn.Parameter(torch.zeros(1, self.batch_size, self.hidden_dim)).to('cuda').clone()\n",
    "    \n",
    "    def forward(self, input):\n",
    "        print(input.shape)\n",
    "        embedding_out = self.embedding(input)\n",
    "        print(embedding_out.shape)\n",
    "        gru_in = embedding_out.view(self.batch_size, input.shape[1], self.hidden_dim)\n",
    "        print(gru_in.shape)\n",
    "        gru_out, self.hidden = self.gru(gru_in, self.hidden)\n",
    "        y_pred = self.linear(gru_out)\n",
    "        \n",
    "        return y_pred\n"
   ]
  },
  {
   "cell_type": "code",
   "execution_count": 54,
   "metadata": {},
   "outputs": [],
   "source": [
    "def batch_data(x, batch_size):\n",
    "    \"\"\"input should be a numpy.array or list\"\"\"\n",
    "    remaind = len(x)%batch_size\n",
    "    y = x[:-remaind]\n",
    "    num_dataset = len(x)//batch_size\n",
    "    return y.reshape((num_dataset, batch_size))\n",
    "\n",
    "class seq_data(Dataset):\n",
    "    \n",
    "    def __init__(self, traj, seq_length, shift):\n",
    "        self.traj = traj\n",
    "        self.seq_length = seq_length\n",
    "        self.shift = shift\n",
    "    \n",
    "    def __len__(self):\n",
    "        return self.traj[self.shift:].shape[0]//self.seq_length\n",
    "    \n",
    "    def __getitem__(self, idx):\n",
    "        x = self.traj[:-self.shift][idx*self.seq_length:idx*self.seq_length+self.seq_length]\n",
    "        y = self.traj[self.shift:][idx*self.seq_length:idx*self.seq_length+self.seq_length]\n",
    "        return x, y"
   ]
  },
  {
   "cell_type": "code",
   "execution_count": 55,
   "metadata": {},
   "outputs": [
    {
     "name": "stdout",
     "output_type": "stream",
     "text": [
      "NLP(\n",
      "  (embedding): Embedding(3, 8)\n",
      "  (lstm): LSTM(8, 32, batch_first=True)\n",
      "  (linear): Linear(in_features=32, out_features=3, bias=True)\n",
      ")\n",
      "349\n",
      "399\n"
     ]
    }
   ],
   "source": [
    "EPOCHS = 30\n",
    "sequence_len = 100\n",
    "shift=1\n",
    "batch_size=64\n",
    "\n",
    "train_dataset = seq_data(text_as_int[:35000], sequence_len, shift)\n",
    "train_dataloader = DataLoader(train_dataset, batch_size=64, shuffle=True, drop_last=True)\n",
    "\n",
    "val_dataset = seq_data(text_as_int[:40000], sequence_len, shift)\n",
    "val_dataloader = DataLoader(val_dataset, batch_size=64, shuffle=True, drop_last=True)\n",
    "\n",
    "model = NLP(vocab_size, embedding_dim, rnn_units,batch_size).to(device)\n",
    "print(model)\n",
    "\n",
    "loss_fn = nn.CrossEntropyLoss()\n",
    "optimizer = torch.optim.Adam(model.parameters(), lr=0.001)\n",
    "print(train_dataset.__len__())\n",
    "print(val_dataset.__len__())"
   ]
  },
  {
   "cell_type": "code",
   "execution_count": 56,
   "metadata": {},
   "outputs": [
    {
     "name": "stderr",
     "output_type": "stream",
     "text": [
      "/home/darthgera123/anaconda3/envs/redner/lib/python3.7/site-packages/ipykernel_launcher.py:19: UserWarning: Implicit dimension choice for softmax has been deprecated. Change the call to include dim=X as an argument.\n",
      "/home/darthgera123/anaconda3/envs/redner/lib/python3.7/site-packages/ipykernel_launcher.py:45: UserWarning: Implicit dimension choice for softmax has been deprecated. Change the call to include dim=X as an argument.\n"
     ]
    },
    {
     "name": "stdout",
     "output_type": "stream",
     "text": [
      "Train Loss at Epoch 0 = 5.067756414413452, Train Accuracy = 9.921875\n",
      "Val Loss at Epoch 0 = 5.842765986919403, Val Accuracy = 21.312499999999996\n",
      "Train Loss at Epoch 1 = 4.581160306930542, Train Accuracy = 9.3\n",
      "Val Loss at Epoch 1 = 5.3143832087516785, Val Accuracy = 96.125\n",
      "Train Loss at Epoch 2 = 4.072677314281464, Train Accuracy = 98.17500000000001\n",
      "Val Loss at Epoch 2 = 4.73659074306488, Val Accuracy = 98.75781250000001\n",
      "Train Loss at Epoch 3 = 3.5292550325393677, Train Accuracy = 98.82187499999999\n",
      "Val Loss at Epoch 3 = 4.119738519191742, Val Accuracy = 99.01041666666669\n",
      "Train Loss at Epoch 4 = 2.8746138215065002, Train Accuracy = 99.04375\n",
      "Val Loss at Epoch 4 = 3.416955590248108, Val Accuracy = 98.93229166666667\n",
      "Train Loss at Epoch 5 = 2.26973232626915, Train Accuracy = 99.06875\n",
      "Val Loss at Epoch 5 = 2.7747224867343903, Val Accuracy = 98.90624999999999\n",
      "Train Loss at Epoch 6 = 1.720073640346527, Train Accuracy = 99.03437500000001\n",
      "Val Loss at Epoch 6 = 2.3393610417842865, Val Accuracy = 98.69791666666666\n",
      "Train Loss at Epoch 7 = 1.3404526263475418, Train Accuracy = 99.05312499999998\n",
      "Val Loss at Epoch 7 = 1.980286329984665, Val Accuracy = 98.57552083333333\n",
      "Train Loss at Epoch 8 = 1.055388331413269, Train Accuracy = 98.784375\n",
      "Val Loss at Epoch 8 = 1.6755159050226212, Val Accuracy = 98.7421875\n",
      "Train Loss at Epoch 9 = 0.8786984011530876, Train Accuracy = 98.78125000000001\n",
      "Val Loss at Epoch 9 = 1.522476702928543, Val Accuracy = 98.578125\n",
      "Train Loss at Epoch 10 = 0.7061795294284821, Train Accuracy = 99.00625\n",
      "Val Loss at Epoch 10 = 1.414471760392189, Val Accuracy = 98.45833333333333\n",
      "Train Loss at Epoch 11 = 0.6924372836947441, Train Accuracy = 98.975\n",
      "Val Loss at Epoch 11 = 1.3174836337566376, Val Accuracy = 98.37760416666667\n",
      "Train Loss at Epoch 12 = 0.6224289685487747, Train Accuracy = 98.615625\n",
      "Val Loss at Epoch 12 = 1.2034924030303955, Val Accuracy = 98.29166666666667\n",
      "Train Loss at Epoch 13 = 0.5701336413621902, Train Accuracy = 98.69375000000001\n",
      "Val Loss at Epoch 13 = 1.0816169381141663, Val Accuracy = 98.33333333333333\n",
      "Train Loss at Epoch 14 = 0.4982391521334648, Train Accuracy = 98.74374999999999\n",
      "Val Loss at Epoch 14 = 0.9722422957420349, Val Accuracy = 98.54947916666667\n",
      "Train Loss at Epoch 15 = 0.47192899137735367, Train Accuracy = 98.728125\n",
      "Val Loss at Epoch 15 = 0.8862329944968224, Val Accuracy = 98.40104166666667\n",
      "Train Loss at Epoch 16 = 0.46086444705724716, Train Accuracy = 98.72812499999999\n",
      "Val Loss at Epoch 16 = 0.8144763931632042, Val Accuracy = 98.3828125\n",
      "Train Loss at Epoch 17 = 0.3770654611289501, Train Accuracy = 98.95625000000001\n",
      "Val Loss at Epoch 17 = 0.7718145549297333, Val Accuracy = 98.20052083333334\n",
      "Train Loss at Epoch 18 = 0.38542845845222473, Train Accuracy = 98.85625000000002\n",
      "Val Loss at Epoch 18 = 0.6586792692542076, Val Accuracy = 98.53645833333333\n",
      "Train Loss at Epoch 19 = 0.3109149783849716, Train Accuracy = 98.903125\n",
      "Val Loss at Epoch 19 = 0.6231063790619373, Val Accuracy = 98.4375\n",
      "Train Loss at Epoch 20 = 0.3273268938064575, Train Accuracy = 98.94375\n",
      "Val Loss at Epoch 20 = 0.5647197514772415, Val Accuracy = 98.64583333333333\n",
      "Train Loss at Epoch 21 = 0.3015774004161358, Train Accuracy = 98.74375\n",
      "Val Loss at Epoch 21 = 0.5423971191048622, Val Accuracy = 98.47395833333333\n",
      "Train Loss at Epoch 22 = 0.287797000259161, Train Accuracy = 98.89687500000001\n",
      "Val Loss at Epoch 22 = 0.49834591150283813, Val Accuracy = 98.49479166666666\n",
      "Train Loss at Epoch 23 = 0.2633418645709753, Train Accuracy = 98.884375\n",
      "Val Loss at Epoch 23 = 0.4651332423090935, Val Accuracy = 98.4296875\n",
      "Train Loss at Epoch 24 = 0.2638978362083435, Train Accuracy = 98.896875\n",
      "Val Loss at Epoch 24 = 0.42038681358098984, Val Accuracy = 98.60677083333333\n",
      "Train Loss at Epoch 25 = 0.2454468235373497, Train Accuracy = 98.81249999999999\n",
      "Val Loss at Epoch 25 = 0.4094898924231529, Val Accuracy = 98.48697916666667\n",
      "Train Loss at Epoch 26 = 0.24708238244056702, Train Accuracy = 98.85312499999999\n",
      "Val Loss at Epoch 26 = 0.38512156903743744, Val Accuracy = 98.56249999999999\n",
      "Train Loss at Epoch 27 = 0.19608907401561737, Train Accuracy = 98.703125\n",
      "Val Loss at Epoch 27 = 0.3685877248644829, Val Accuracy = 98.63020833333333\n",
      "Train Loss at Epoch 28 = 0.220663009211421, Train Accuracy = 99.028125\n",
      "Val Loss at Epoch 28 = 0.36527349799871445, Val Accuracy = 98.49739583333333\n",
      "Train Loss at Epoch 29 = 0.2200007364153862, Train Accuracy = 98.890625\n",
      "Val Loss at Epoch 29 = 0.33622586354613304, Val Accuracy = 98.6953125\n"
     ]
    }
   ],
   "source": [
    "train_loss=[]\n",
    "train_accuracy = []\n",
    "\n",
    "val_loss=[]\n",
    "val_accuracy = []\n",
    "for epoch in range(EPOCHS):\n",
    "    epoch_loss = 0\n",
    "    epoch_accuracy = []\n",
    "    model.train()\n",
    "    for batch_X_train, batch_Y_train in train_dataloader:\n",
    "        model.hidden[0].detach_()\n",
    "        model.hidden[1].detach_()\n",
    "        batch_X_train = batch_X_train.to(device)\n",
    "        batch_Y_train = batch_Y_train.to(device)\n",
    "        y_pred = model(batch_X_train)\n",
    "        y=batch_Y_train.to(device)\n",
    "        \n",
    "        loss = loss_fn(y_pred.view(-1, vocab_size), y.view(-1))\n",
    "        y_pred_soft = torch.nn.functional.softmax(y_pred)\n",
    "        y_pred_state = torch.argmax(y_pred_soft,axis=2)\n",
    "        train_pred = torch.sum(y_pred_state==y).cpu().numpy()/(batch_size*sequence_len) \n",
    "        epoch_accuracy.append(train_pred)\n",
    "        epoch_loss += loss.item()\n",
    "        optimizer.zero_grad()\n",
    "        loss.backward(retain_graph=True)\n",
    "        optimizer.step()\n",
    "    train_loss.append(epoch_loss)\n",
    "    avg_accuracy = np.mean(epoch_accuracy)*100\n",
    "    train_accuracy.append(avg_accuracy)\n",
    "    print(f'Train Loss at Epoch {epoch} = {epoch_loss}, Train Accuracy = {avg_accuracy}')\n",
    "    \n",
    "    \n",
    "    epoch_val_loss= 0\n",
    "    epoch_val_accuracy = []\n",
    "    model.eval()\n",
    "    for batch_X_train, batch_Y_train in val_dataloader:\n",
    "        model.hidden[0].detach_()\n",
    "        model.hidden[1].detach_()\n",
    "        batch_X_train = batch_X_train.to(device)\n",
    "        batch_Y_train = batch_Y_train.to(device)\n",
    "        y_pred = model(batch_X_train)\n",
    "        y=batch_Y_train.to(device)\n",
    "        \n",
    "        loss = loss_fn(y_pred.view(-1, vocab_size), y.view(-1))\n",
    "        y_pred_soft = torch.nn.functional.softmax(y_pred)\n",
    "        y_pred_state = torch.argmax(y_pred_soft,axis=2)\n",
    "        val_pred = torch.sum(y_pred_state==y).cpu().numpy()/(batch_size*sequence_len) \n",
    "        epoch_val_accuracy.append(val_pred)\n",
    "        epoch_val_loss += loss.item()\n",
    "        \n",
    "    val_loss.append(epoch_val_loss)\n",
    "    avg_accuracy = np.mean(epoch_val_accuracy)*100\n",
    "    val_accuracy.append(avg_accuracy)\n",
    "    print(f'Val Loss at Epoch {epoch} = {epoch_val_loss}, Val Accuracy = {avg_accuracy}')"
   ]
  },
  {
   "cell_type": "code",
   "execution_count": 57,
   "metadata": {},
   "outputs": [
    {
     "data": {
      "image/png": "[encoded data removed]",
      "text/plain": [
       "<Figure size 432x288 with 1 Axes>"
      ]
     },
     "metadata": {
      "needs_background": "light"
     },
     "output_type": "display_data"
    }
   ],
   "source": [
    "import matplotlib.pyplot as plt\n",
    "plt.title(\"Loss\")\n",
    "plt.plot(train_loss,label='train')\n",
    "plt.title(\"Loss Triangle\")\n",
    "plt.plot(val_loss,label='val')\n",
    "plt.legend()\n",
    "plt.savefig(\"plots/loss_triangle_three.png\")"
   ]
  },
  {
   "cell_type": "code",
   "execution_count": 58,
   "metadata": {},
   "outputs": [
    {
     "data": {
      "image/png": "[encoded data removed]",
      "text/plain": [
       "<Figure size 432x288 with 1 Axes>"
      ]
     },
     "metadata": {
      "needs_background": "light"
     },
     "output_type": "display_data"
    }
   ],
   "source": [
    "plt.title(\"Accuracy Triangle\")\n",
    "plt.plot(train_accuracy,label='train')\n",
    "plt.plot(val_accuracy,label='val')\n",
    "plt.legend()\n",
    "plt.savefig(\"plots/accuracy_triangle_three.png\")"
   ]
  },
  {
   "cell_type": "code",
   "execution_count": 59,
   "metadata": {},
   "outputs": [],
   "source": [
    "PATH = 'training_checkpoints/test_weight_16_1000.pt'\n",
    "torch.save(model.state_dict(), PATH)"
   ]
  },
  {
   "cell_type": "code",
   "execution_count": 60,
   "metadata": {},
   "outputs": [
    {
     "data": {
      "text/plain": [
       "<All keys matched successfully>"
      ]
     },
     "execution_count": 60,
     "metadata": {},
     "output_type": "execute_result"
    }
   ],
   "source": [
    "model = NLP(vocab_size, embedding_dim, rnn_units, 1).to(device)\n",
    "model.load_state_dict(torch.load(PATH))\n"
   ]
  },
  {
   "cell_type": "code",
   "execution_count": 61,
   "metadata": {},
   "outputs": [],
   "source": [
    "def generate_text(start_string,string_length):\n",
    "    \n",
    "    input_eval = torch.tensor([char2idx[s] for s in start_string], device=device)\n",
    "    \n",
    "    text_generated = np.empty(1)\n",
    "    \n",
    "    for i in range(string_length):\n",
    "        input_eval = input_eval[np.newaxis, ...] # add a dimension for batch=1.\n",
    "        prediction=model(input_eval)\n",
    "        logits=prediction\n",
    "        p=torch.nn.functional.softmax(logits, dim=-1) # take first batch\n",
    "        predicted_id=torch.multinomial(p[0,-1], 1)\n",
    "        \n",
    "        input_eval = predicted_id\n",
    "        \n",
    "        text_generated = np.vstack((text_generated, idx2char[predicted_id].tolist()))\n",
    "\n",
    "    return text_generated[1:]\n"
   ]
  },
  {
   "cell_type": "code",
   "execution_count": 68,
   "metadata": {},
   "outputs": [],
   "source": [
    "string_length = 1000\n",
    "text = idx_2d[:string_length]\n",
    "prediction=generate_text(text,string_length)"
   ]
  },
  {
   "cell_type": "code",
   "execution_count": 69,
   "metadata": {},
   "outputs": [
    {
     "name": "stdout",
     "output_type": "stream",
     "text": [
      "Accuracy of test prediction of sequence length 1000 is 99.2%\n"
     ]
    }
   ],
   "source": [
    "test_accuracy = np.sum(np.ravel(prediction)==idx_2d[string_length:2*string_length])\n",
    "test_accuracy = (test_accuracy/string_length) * 100\n",
    "print(f\"Accuracy of test prediction of sequence length {string_length} is {test_accuracy}%\")"
   ]
  },
  {
   "cell_type": "code",
   "execution_count": null,
   "metadata": {},
   "outputs": [],
   "source": []
  }
 ],
 "metadata": {
  "kernelspec": {
   "display_name": "Python 3",
   "language": "python",
   "name": "python3"
  },
  "language_info": {
   "codemirror_mode": {
    "name": "ipython",
    "version": 3
   },
   "file_extension": ".py",
   "mimetype": "text/x-python",
   "name": "python",
   "nbconvert_exporter": "python",
   "pygments_lexer": "ipython3",
   "version": "3.7.9"
  }
 },
 "nbformat": 4,
 "nbformat_minor": 4
}
